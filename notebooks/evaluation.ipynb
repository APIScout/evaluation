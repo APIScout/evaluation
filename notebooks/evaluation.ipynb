{
 "cells": [
  {
   "cell_type": "code",
   "id": "initial_id",
   "metadata": {
    "collapsed": true,
    "ExecuteTime": {
     "end_time": "2024-05-17T09:31:01.873881Z",
     "start_time": "2024-05-17T09:31:01.869265Z"
    }
   },
   "source": [
    "import requests\n",
    "\n",
    "from typing import Any\n",
    "from yaml import safe_load\n",
    "from typing import Callable\n",
    "from matplotlib import pyplot"
   ],
   "outputs": [],
   "execution_count": 97
  },
  {
   "metadata": {},
   "cell_type": "markdown",
   "source": "## Configuration",
   "id": "81da2954bb585e01"
  },
  {
   "metadata": {
    "ExecuteTime": {
     "end_time": "2024-05-17T09:31:01.953278Z",
     "start_time": "2024-05-17T09:31:01.948494Z"
    }
   },
   "cell_type": "code",
   "source": [
    "# Retrieve configuration file for elastic\n",
    "with open(\"../debug.config.yml\") as config:\n",
    "    config_file = safe_load(config)[\"backend\"]"
   ],
   "id": "aad4278d1befeb33",
   "outputs": [],
   "execution_count": 98
  },
  {
   "metadata": {},
   "cell_type": "markdown",
   "source": "## Evaluation",
   "id": "279dad6910e08fca"
  },
  {
   "metadata": {},
   "cell_type": "markdown",
   "source": "### Setup",
   "id": "44bb28ffe4d41d7d"
  },
  {
   "metadata": {
    "ExecuteTime": {
     "end_time": "2024-05-17T09:31:01.956677Z",
     "start_time": "2024-05-17T09:31:01.954807Z"
    }
   },
   "cell_type": "code",
   "source": "ORACLES = 1",
   "id": "71bc2d4a3da214c8",
   "outputs": [],
   "execution_count": 99
  },
  {
   "metadata": {
    "ExecuteTime": {
     "end_time": "2024-05-17T09:31:01.965291Z",
     "start_time": "2024-05-17T09:31:01.957389Z"
    }
   },
   "cell_type": "code",
   "source": [
    "colors_map: dict[str, str] = {\n",
    "    \"precision\": \"orange\",\n",
    "    \"recall\": \"royalblue\",\n",
    "    \"f1\": \"forestgreen\",\n",
    "    \"ap\": \"firebrick\"\n",
    "}\n",
    "\n",
    "ground_truth_needles: dict[str, list[str]] = {\n",
    "    \"weather forecast service\": [\n",
    "        \"663a01d3b43474523aefbef6\",\n",
    "        \"663a01d3b43474523aefbef5\",\n",
    "        \"663a0b2eb43474523aefbef8\",\n",
    "        \"663a0575b43474523aefbef7\"\n",
    "    ],\n",
    "    \"american sports news articles\": [\n",
    "        \"663caaaf76481aa0487cfe1c\",\n",
    "        \"663cac6776481aa0487cfe1d\",\n",
    "        \"663cb06576481aa0487cfe1e\",\n",
    "        \"663deba076481aa0487cfe1f\"\n",
    "    ],\n",
    "    \"digital book library\": [\n",
    "        \"663f822b76481aa0487cfe23\",\n",
    "        \"663f83df76481aa0487cfe24\",\n",
    "        \"663f86c776481aa0487cfe25\",\n",
    "        \"663f892876481aa0487cfe26\"  \n",
    "    ],\n",
    "    \"restaurant booking platform\": [\n",
    "        \"66409b1376481aa0487cfe2a\",\n",
    "        \"66409e3876481aa0487cfe2c\",\n",
    "        \"6640a12176481aa0487cfe2d\",\n",
    "        \"6640a2ce76481aa0487cfe2e\"\n",
    "    ]\n",
    "}\n",
    "\n",
    "ground_truth_total_ranks: dict[str, list[str]] = {\n",
    "    \"weather forecast service\": [\n",
    "        \"655a2b49863e4a08a6f2256f\",\n",
    "        \"655a168820959f0f93b42546\",\n",
    "        \"655a2b68863e4a08a6f22770\",\n",
    "        \"655aa97e863e4a08a6f3690f\",\n",
    "        \"655a6a0d863e4a08a6f2ee30\",\n",
    "        \"655a1fbc863e4a08a6eed4d2\",\n",
    "        \"655a284c863e4a08a6f1dad4\",\n",
    "        \"655a2bb9863e4a08a6f22ddd\",\n",
    "        \"655a2c70863e4a08a6f238c0\",\n",
    "        \"655a2be2863e4a08a6f230bc\" \n",
    "    ],\n",
    "    \"maps service\": [\n",
    "        \"655a2be2863e4a08a6f230bc\",\n",
    "        \"655a2be3863e4a08a6f230c8\",\n",
    "        \"655a2be3863e4a08a6f230d3\",\n",
    "        \"655a2be5863e4a08a6f230f2\",\n",
    "        \"655b9761863e4a08a6f516a8\",\n",
    "        \"655a184c20959f0f93b46c74\",\n",
    "        \"655b986b863e4a08a6f5206d\",\n",
    "        \"655a2b2d863e4a08a6f2238c\",\n",
    "        \"655a2b1f863e4a08a6f222a3\",\n",
    "        \"655a6a0d863e4a08a6f2ee30\"\n",
    "    ],\n",
    "    \"digital book library\": [\n",
    "        \"655aadfe863e4a08a6f395b6\",\n",
    "        \"655b0fa2863e4a08a6f40f81\",\n",
    "        \"655aa969863e4a08a6f36807\",\n",
    "        \"655a803d863e4a08a6f33a40\",\n",
    "        \"655ab14d863e4a08a6f3bc95\",\n",
    "        \"655aaa73863e4a08a6f37380\",\n",
    "        \"655aaa67863e4a08a6f372ea\",\n",
    "        \"655a107d20959f0f93b309c5\",\n",
    "        \"655a2ad4863e4a08a6f21ed7\",\n",
    "        \"655a2ad4863e4a08a6f21ee2\"\n",
    "    ],\n",
    "    \"tournaments and leaderboards\": [\n",
    "        \"655aab32863e4a08a6f37cac\",\n",
    "        \"655a171f20959f0f93b43d9a\",\n",
    "        \"655a2b67863e4a08a6f2275b\",\n",
    "        \"655a6d04863e4a08a6f30ba8\",\n",
    "        \"655a2bd3863e4a08a6f22f67\",\n",
    "        \"655a6f7b863e4a08a6f31941\",\n",
    "        \"655a2b35863e4a08a6f22411\",\n",
    "        \"655a184c20959f0f93b46c74\",\n",
    "        \"655a164e20959f0f93b41b17\",\n",
    "        \"655a2ea5863e4a08a6f24d54\" \n",
    "    ]\n",
    "}\n",
    "\n",
    "ground_truth_total_rel: dict[str, dict[str, int]] = {\n",
    "    \"weather forecast service\": {\n",
    "        \"655a2b49863e4a08a6f2256f\": 1,\n",
    "        \"655a168820959f0f93b42546\": 0,\n",
    "        \"655a2b68863e4a08a6f22770\": 1,\n",
    "        \"655aa97e863e4a08a6f3690f\": 1,\n",
    "        \"655a6a0d863e4a08a6f2ee30\": 0,\n",
    "        \"655a1fbc863e4a08a6eed4d2\": 0,\n",
    "        \"655a284c863e4a08a6f1dad4\": 0,\n",
    "        \"655a2bb9863e4a08a6f22ddd\": 0,\n",
    "        \"655a2c70863e4a08a6f238c0\": 0,\n",
    "        \"655a2be2863e4a08a6f230bc\": 0\n",
    "    },\n",
    "    \"maps service\": {\n",
    "        \"655a2be2863e4a08a6f230bc\": 1,\n",
    "        \"655a2be3863e4a08a6f230c8\": 1,\n",
    "        \"655a2be3863e4a08a6f230d3\": 1,\n",
    "        \"655a2be5863e4a08a6f230f2\": 1,\n",
    "        \"655b9761863e4a08a6f516a8\": 0,\n",
    "        \"655a184c20959f0f93b46c74\": 1,\n",
    "        \"655b986b863e4a08a6f5206d\": 1,\n",
    "        \"655a2b2d863e4a08a6f2238c\": 0,\n",
    "        \"655a2b1f863e4a08a6f222a3\": 0,\n",
    "        \"655a6a0d863e4a08a6f2ee30\": 0\n",
    "    },\n",
    "    \"digital book library\": {\n",
    "        \"655aadfe863e4a08a6f395b6\": 1,\n",
    "        \"655b0fa2863e4a08a6f40f81\": 1,\n",
    "        \"655aa969863e4a08a6f36807\": 1,\n",
    "        \"655a803d863e4a08a6f33a40\": 1,\n",
    "        \"655ab14d863e4a08a6f3bc95\": 1,\n",
    "        \"655aaa73863e4a08a6f37380\": 0,\n",
    "        \"655aaa67863e4a08a6f372ea\": 1,\n",
    "        \"655a107d20959f0f93b309c5\": 1,\n",
    "        \"655a2ad4863e4a08a6f21ed7\": 0,\n",
    "        \"655a2ad4863e4a08a6f21ee2\": 0\n",
    "    },\n",
    "    \"tournaments and leaderboards\": {\n",
    "        \"655aab32863e4a08a6f37cac\": 1,\n",
    "        \"655a171f20959f0f93b43d9a\": 1,\n",
    "        \"655a2b67863e4a08a6f2275b\": 1,\n",
    "        \"655a6d04863e4a08a6f30ba8\": 0,\n",
    "        \"655a2bd3863e4a08a6f22f67\": 0,\n",
    "        \"655a6f7b863e4a08a6f31941\": 0,\n",
    "        \"655a2b35863e4a08a6f22411\": 0,\n",
    "        \"655a184c20959f0f93b46c74\": 0,\n",
    "        \"655a164e20959f0f93b41b17\": 0,\n",
    "        \"655a2ea5863e4a08a6f24d54\": 1\n",
    "    }\n",
    "}\n",
    "\n",
    "evaluations: dict[str, dict[str, float]] = {}"
   ],
   "id": "9e41235f1da01340",
   "outputs": [],
   "execution_count": 100
  },
  {
   "metadata": {
    "ExecuteTime": {
     "end_time": "2024-05-17T09:31:01.978165Z",
     "start_time": "2024-05-17T09:31:01.969496Z"
    }
   },
   "cell_type": "code",
   "source": [
    "ground_truth_words_weather: dict[str, list[str]] = {\n",
    "    \"weather\": [\n",
    "        \"663a01d3b43474523aefbef6\",\n",
    "        \"663a01d3b43474523aefbef5\",\n",
    "        \"663a0b2eb43474523aefbef8\",\n",
    "        \"663a0575b43474523aefbef7\"\n",
    "    ],\n",
    "    \"weather forecast\": [\n",
    "        \"663a01d3b43474523aefbef6\",\n",
    "        \"663a01d3b43474523aefbef5\",\n",
    "        \"663a0b2eb43474523aefbef8\",\n",
    "        \"663a0575b43474523aefbef7\"\n",
    "    ],\n",
    "    \"weather forecast service\": [\n",
    "        \"663a01d3b43474523aefbef6\",\n",
    "        \"663a01d3b43474523aefbef5\",\n",
    "        \"663a0b2eb43474523aefbef8\",\n",
    "        \"663a0575b43474523aefbef7\"\n",
    "    ],\n",
    "    \"the api returns the next 4 days\\nof weather forecasts\": [\n",
    "        \"663a01d3b43474523aefbef6\",\n",
    "        \"663a01d3b43474523aefbef5\",\n",
    "        \"663a0b2eb43474523aefbef8\",\n",
    "        \"663a0575b43474523aefbef7\"\n",
    "    ],\n",
    "}\n",
    "\n",
    "ground_truth_words_library: dict[str, list[str]] = {\n",
    "    \"digital\": [\n",
    "        \"663f822b76481aa0487cfe23\",\n",
    "        \"663f83df76481aa0487cfe24\",\n",
    "        \"663f86c776481aa0487cfe25\",\n",
    "        \"663f892876481aa0487cfe26\"  \n",
    "    ],\n",
    "    \"digital book\": [\n",
    "        \"663f822b76481aa0487cfe23\",\n",
    "        \"663f83df76481aa0487cfe24\",\n",
    "        \"663f86c776481aa0487cfe25\",\n",
    "        \"663f892876481aa0487cfe26\"  \n",
    "    ],\n",
    "    \"digital book library\": [\n",
    "        \"663f822b76481aa0487cfe23\",\n",
    "        \"663f83df76481aa0487cfe24\",\n",
    "        \"663f86c776481aa0487cfe25\",\n",
    "        \"663f892876481aa0487cfe26\"  \n",
    "    ],\n",
    "    \"API for managing digital library resources\\nretrieving books authors and publishers\": [\n",
    "        \"663f822b76481aa0487cfe23\",\n",
    "        \"663f83df76481aa0487cfe24\",\n",
    "        \"663f86c776481aa0487cfe25\",\n",
    "        \"663f892876481aa0487cfe26\"  \n",
    "    ],\n",
    "}\n",
    "\n",
    "ground_truth_words_restaurant: dict[str, list[str]] = {\n",
    "    \"restaurant\": [\n",
    "        \"66409b1376481aa0487cfe2a\",\n",
    "        \"66409e3876481aa0487cfe2c\",\n",
    "        \"6640a12176481aa0487cfe2d\",\n",
    "        \"6640a2ce76481aa0487cfe2e\"\n",
    "    ],\n",
    "    \"restaurant booking\": [\n",
    "        \"66409b1376481aa0487cfe2a\",\n",
    "        \"66409e3876481aa0487cfe2c\",\n",
    "        \"6640a12176481aa0487cfe2d\",\n",
    "        \"6640a2ce76481aa0487cfe2e\"\n",
    "    ],\n",
    "    \"restaurant booking platform\": [\n",
    "        \"66409b1376481aa0487cfe2a\",\n",
    "        \"66409e3876481aa0487cfe2c\",\n",
    "        \"6640a12176481aa0487cfe2d\",\n",
    "        \"6640a2ce76481aa0487cfe2e\"\n",
    "    ],\n",
    "    \"Allows users to create a booking for a\\nspecific restaurant ID of the restaurant\": [\n",
    "        \"66409b1376481aa0487cfe2a\",\n",
    "        \"66409e3876481aa0487cfe2c\",\n",
    "        \"6640a12176481aa0487cfe2d\",\n",
    "        \"6640a2ce76481aa0487cfe2e\"\n",
    "    ]\n",
    "}\n",
    "\n",
    "ground_truth_words_sports: dict[str, list[str]] = {\n",
    "    \"american sports\": [\n",
    "        \"663caaaf76481aa0487cfe1c\",\n",
    "        \"663cac6776481aa0487cfe1d\",\n",
    "        \"663cb06576481aa0487cfe1e\",\n",
    "        \"663deba076481aa0487cfe1f\"\n",
    "    ],\n",
    "    \"american sports news\": [\n",
    "        \"663caaaf76481aa0487cfe1c\",\n",
    "        \"663cac6776481aa0487cfe1d\",\n",
    "        \"663cb06576481aa0487cfe1e\",\n",
    "        \"663deba076481aa0487cfe1f\"\n",
    "    ],\n",
    "    \"american sports news articles\": [\n",
    "        \"663caaaf76481aa0487cfe1c\",\n",
    "        \"663cac6776481aa0487cfe1d\",\n",
    "        \"663cb06576481aa0487cfe1e\",\n",
    "        \"663deba076481aa0487cfe1f\"\n",
    "    ],\n",
    "    \"An API for accessing news articles across\\nvarious sports leagues including NFL\": [\n",
    "        \"663caaaf76481aa0487cfe1c\",\n",
    "        \"663cac6776481aa0487cfe1d\",\n",
    "        \"663cb06576481aa0487cfe1e\",\n",
    "        \"663deba076481aa0487cfe1f\"\n",
    "    ],\n",
    "}"
   ],
   "id": "95b2972e498492cd",
   "outputs": [],
   "execution_count": 101
  },
  {
   "metadata": {
    "ExecuteTime": {
     "end_time": "2024-05-17T09:31:01.982237Z",
     "start_time": "2024-05-17T09:31:01.979660Z"
    }
   },
   "cell_type": "code",
   "source": [
    "def perform_search_query(query: str, k: int=10) -> list[str]:\n",
    "    url: str = f\"http://localhost:{config_file['port']}/api/v1/search?size={k}\"\n",
    "    body: dict[str, str | list[str]] = {\n",
    "        \"fragment\": query.replace(\"\\n\", \" \"),\n",
    "        \"fields\": [\"metadata\"]\n",
    "    }\n",
    "    \n",
    "    res: list[dict[str, Any]] = requests.post(url, json=body).json()\n",
    "    \n",
    "    return [doc[\"metadata\"][\"mongo-id\"] for doc in res]"
   ],
   "id": "338d80ac5bc1889d",
   "outputs": [],
   "execution_count": 102
  },
  {
   "metadata": {
    "ExecuteTime": {
     "end_time": "2024-05-17T09:31:01.999990Z",
     "start_time": "2024-05-17T09:31:01.997934Z"
    }
   },
   "cell_type": "code",
   "source": [
    "def is_relevant(query:str, document: str):\n",
    "    return ground_truth_total_rel[query][document] > (ORACLES / 2)"
   ],
   "id": "b327ba69256d130d",
   "outputs": [],
   "execution_count": 103
  },
  {
   "metadata": {},
   "cell_type": "markdown",
   "source": "### Metrics",
   "id": "20a6f552f33337b0"
  },
  {
   "metadata": {
    "ExecuteTime": {
     "end_time": "2024-05-17T09:31:02.011412Z",
     "start_time": "2024-05-17T09:31:02.009044Z"
    }
   },
   "cell_type": "code",
   "source": [
    "def precision(found_docs: list[str], docs: list[str]=None, k: int=10) -> float:\n",
    "    return len(found_docs) / k"
   ],
   "id": "aa1877e33ae7956",
   "outputs": [],
   "execution_count": 104
  },
  {
   "metadata": {
    "ExecuteTime": {
     "end_time": "2024-05-17T09:31:02.015255Z",
     "start_time": "2024-05-17T09:31:02.013108Z"
    }
   },
   "cell_type": "code",
   "source": [
    "def recall(found_docs: list[str], docs: list[str], k: int=10) -> float:\n",
    "    return len(found_docs) / len(docs)"
   ],
   "id": "31916f70a911358f",
   "outputs": [],
   "execution_count": 105
  },
  {
   "metadata": {
    "ExecuteTime": {
     "end_time": "2024-05-17T09:31:02.019095Z",
     "start_time": "2024-05-17T09:31:02.016559Z"
    }
   },
   "cell_type": "code",
   "source": [
    "def f1(found_docs: list[str], docs: list[str], k: int=10) -> float:\n",
    "    precision_score = len(found_docs) / k\n",
    "    recall_score = len(found_docs) / len(docs)\n",
    "    \n",
    "    if precision_score + recall_score == 0:\n",
    "        return 0\n",
    "    \n",
    "    return 2 * ((precision_score * recall_score) / (precision_score + recall_score))"
   ],
   "id": "8305ef14b7b7ff",
   "outputs": [],
   "execution_count": 106
  },
  {
   "metadata": {
    "ExecuteTime": {
     "end_time": "2024-05-17T09:31:02.023027Z",
     "start_time": "2024-05-17T09:31:02.020190Z"
    }
   },
   "cell_type": "code",
   "source": [
    "def ap(query: str, k: int=10) -> float:\n",
    "    global ground_truth_total_ranks, ground_truth_total_rel\n",
    "    \n",
    "    num = 0\n",
    "    docs = ground_truth_total_ranks[query]\n",
    "    \n",
    "    for i in range(k):\n",
    "        relevant_docs = list(filter(lambda x: is_relevant(query, x), docs[:k]))\n",
    "        \n",
    "        precision_score = precision(relevant_docs, k=k)\n",
    "        rel_score = 1 if is_relevant(query, docs[i]) else 0\n",
    "        \n",
    "        num += precision_score * rel_score\n",
    "        \n",
    "    return num / k"
   ],
   "id": "4032123a87f5a2eb",
   "outputs": [],
   "execution_count": 107
  },
  {
   "metadata": {
    "ExecuteTime": {
     "end_time": "2024-05-17T09:31:02.051329Z",
     "start_time": "2024-05-17T09:31:02.047491Z"
    }
   },
   "cell_type": "code",
   "source": [
    "def evaluate_metric(metric: Callable[[list[str], list[str], int], float], to_evaluate: dict[str, list[str]], k: int=10, total: bool=False):\n",
    "    global evaluations\n",
    "    \n",
    "    for query, docs in to_evaluate.items():\n",
    "        if not total:\n",
    "            found_docs = perform_search_query(query, k)[:k]\n",
    "            found_docs = list(filter(lambda x: x in docs, found_docs))\n",
    "            \n",
    "            metric_value = metric(found_docs, docs, k)\n",
    "        else:\n",
    "            if metric.__name__ != \"ap\":\n",
    "                relevant_docs = list(filter(lambda x: is_relevant(query, x), docs[:k]))\n",
    "                metric_value = metric(relevant_docs, docs, k)\n",
    "            else:\n",
    "                metric_value = ap(query, k)\n",
    "            \n",
    "        if query not in evaluations:\n",
    "                evaluations[query] = {}\n",
    "        \n",
    "        evaluations[query][f\"{metric.__name__}@{k}\"] = metric_value"
   ],
   "id": "c4680c0ff0324be9",
   "outputs": [],
   "execution_count": 108
  },
  {
   "metadata": {},
   "cell_type": "markdown",
   "source": "### Results",
   "id": "d01d0aa827364f36"
  },
  {
   "metadata": {
    "ExecuteTime": {
     "end_time": "2024-05-17T09:31:02.056480Z",
     "start_time": "2024-05-17T09:31:02.052652Z"
    }
   },
   "cell_type": "code",
   "source": [
    "def display_graph(query: str, metrics: list[str], axes: Any, position: list[int]):\n",
    "    global evaluations\n",
    "    \n",
    "    for metric in metrics:\n",
    "        y = [val for key, val in evaluations[query].items() if metric in key]\n",
    "        x = [k+1 for k in range(len(y))]\n",
    "        \n",
    "        axes[position[0], position[1]].scatter([str(x_i) for x_i in x], y, label=metric, color=colors_map[metric])\n",
    "        axes[position[0], position[1]].plot([str(x_i) for x_i in x], y, color=colors_map[metric])\n",
    "    \n",
    "    axes[position[0], position[1]].set_title(query, wrap=True)\n",
    "    axes[position[0], position[1]].set_ylim(-0.05, 1.05)\n",
    "    axes[position[0], position[1]].set_xlabel(\"Number of documents (K)\")\n",
    "    axes[position[0], position[1]].set_ylabel(\"Metric score\")\n",
    "    axes[position[0], position[1]].legend()"
   ],
   "id": "667270dca3fd2f60",
   "outputs": [],
   "execution_count": 109
  },
  {
   "metadata": {
    "ExecuteTime": {
     "end_time": "2024-05-17T09:31:02.061100Z",
     "start_time": "2024-05-17T09:31:02.057877Z"
    }
   },
   "cell_type": "code",
   "source": [
    "def perform_evaluation(metrics: list[str], ground_truth: dict, k: int=10, rows: int=2, cols: int=2, total: bool=False):\n",
    "    global evaluations\n",
    "    \n",
    "    for metric in metrics:\n",
    "        for i in range(1, k+1):\n",
    "            evaluate_metric(globals()[metric], ground_truth, i, total)\n",
    "    \n",
    "    fig, axs = pyplot.subplots(rows, cols, figsize=(8, 6))\n",
    "    fig.suptitle(\"Metrics @K for some test queries\\n\")\n",
    "    fig.tight_layout(h_pad=3)\n",
    "        \n",
    "    for ind, query in enumerate(evaluations.keys()):\n",
    "        position = bin(ind).replace(\"0b\", \"\")\n",
    "        position = f\"0{position}\" if len(position) == 1 else position\n",
    "        \n",
    "        display_graph(query, metrics, axs, [int(position[0]), int(position[1])])\n",
    "\n",
    "    fig.tight_layout(h_pad=1)\n",
    "    pyplot.savefig(\"out.pdf\")"
   ],
   "id": "3bb2170c5b14b45f",
   "outputs": [],
   "execution_count": 110
  },
  {
   "metadata": {
    "ExecuteTime": {
     "end_time": "2024-05-17T09:31:02.064314Z",
     "start_time": "2024-05-17T09:31:02.061943Z"
    }
   },
   "cell_type": "code",
   "source": [
    "def get_averages(metrics: list[str], k:int = 10):\n",
    "    for metric in metrics:\n",
    "        for i in range(1, k+1):\n",
    "            all_values_k = []\n",
    "            \n",
    "            for values in evaluations.values():\n",
    "                all_values_k.append(values[f\"{metric}@{i}\"])\n",
    "            \n",
    "            print(f\"{metric}@{i}: \", sum(all_values_k) / len(all_values_k))"
   ],
   "id": "85250a9940376766",
   "outputs": [],
   "execution_count": 111
  },
  {
   "metadata": {
    "ExecuteTime": {
     "end_time": "2024-05-17T09:31:02.485402Z",
     "start_time": "2024-05-17T09:31:02.083265Z"
    }
   },
   "cell_type": "code",
   "source": [
    "# perform_evaluation([\"precision\", \"recall\", \"f1\"], ground_truth_needles)\n",
    "# perform_evaluation([\"precision\", \"recall\", \"f1\"], ground_truth_words_sports)\n",
    "perform_evaluation([\"precision\", \"ap\"], ground_truth_total_ranks, 10, total=True)\n",
    "get_averages([\"precision\", \"ap\"])"
   ],
   "id": "5e4ba8367ddb69dd",
   "outputs": [
    {
     "name": "stdout",
     "output_type": "stream",
     "text": [
      "precision@1:  1.0\n",
      "precision@2:  0.875\n",
      "precision@3:  0.9166666666666666\n",
      "precision@4:  0.875\n",
      "precision@5:  0.75\n",
      "precision@6:  0.6666666666666667\n",
      "precision@7:  0.6428571428571428\n",
      "precision@8:  0.59375\n",
      "precision@9:  0.5277777777777778\n",
      "precision@10:  0.5\n",
      "ap@1:  1.0\n",
      "ap@2:  0.8125\n",
      "ap@3:  0.8611111111111112\n",
      "ap@4:  0.78125\n",
      "ap@5:  0.59\n",
      "ap@6:  0.47222222222222227\n",
      "ap@7:  0.4591836734693877\n",
      "ap@8:  0.40234375\n",
      "ap@9:  0.31790123456790126\n",
      "ap@10:  0.27499999999999997\n"
     ]
    },
    {
     "data": {
      "text/plain": [
       "<Figure size 800x600 with 4 Axes>"
      ],
      "image/png": "[encoded data removed]"
     },
     "metadata": {},
     "output_type": "display_data"
    }
   ],
   "execution_count": 112
  }
 ],
 "metadata": {
  "kernelspec": {
   "display_name": "Python 3",
   "language": "python",
   "name": "python3"
  },
  "language_info": {
   "codemirror_mode": {
    "name": "ipython",
    "version": 2
   },
   "file_extension": ".py",
   "mimetype": "text/x-python",
   "name": "python",
   "nbconvert_exporter": "python",
   "pygments_lexer": "ipython2",
   "version": "2.7.6"
  }
 },
 "nbformat": 4,
 "nbformat_minor": 5
}
