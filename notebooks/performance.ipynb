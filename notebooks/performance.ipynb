{
 "cells": [
  {
   "cell_type": "code",
   "id": "initial_id",
   "metadata": {
    "collapsed": true,
    "ExecuteTime": {
     "end_time": "2024-05-17T13:42:12.673826Z",
     "start_time": "2024-05-17T13:42:12.668144Z"
    }
   },
   "source": [
    "import math\n",
    "import requests\n",
    "\n",
    "from yaml import safe_load\n",
    "from typing import Callable\n",
    "from scipy.stats import sem\n",
    "from matplotlib import pyplot"
   ],
   "outputs": [],
   "execution_count": 22
  },
  {
   "metadata": {},
   "cell_type": "markdown",
   "source": "## Configuration",
   "id": "d53ef80c22544fcf"
  },
  {
   "metadata": {
    "ExecuteTime": {
     "end_time": "2024-05-17T13:42:12.678984Z",
     "start_time": "2024-05-17T13:42:12.675200Z"
    }
   },
   "cell_type": "code",
   "source": [
    "# Retrieve configuration file for elastic\n",
    "with open(\"../debug.config.yml\") as config:\n",
    "    config_file = safe_load(config)[\"backend\"]"
   ],
   "id": "e56f00cf542c077a",
   "outputs": [],
   "execution_count": 23
  },
  {
   "metadata": {},
   "cell_type": "markdown",
   "source": "## Evaluation",
   "id": "e04cf92c45f43baa"
  },
  {
   "metadata": {},
   "cell_type": "markdown",
   "source": "### Setup",
   "id": "dc1d5b55c27be592"
  },
  {
   "metadata": {
    "ExecuteTime": {
     "end_time": "2024-05-17T13:42:12.688846Z",
     "start_time": "2024-05-17T13:42:12.685908Z"
    }
   },
   "cell_type": "code",
   "source": [
    "class Options:\n",
    "    def __init__(self, r_min: int=10, r_max: int=100, step: int=10, reps: int=5):\n",
    "        self.r_min = r_min\n",
    "        self.r_max = r_max\n",
    "        self.step = step\n",
    "        self.reps = reps\n",
    "        \n",
    "evaluations: dict[str, dict[str, dict[str, list[int] | list[float]]]] = {}\n",
    "\n",
    "colors_map: dict[str, str] = {\n",
    "    \"metadata\": \"orange\",\n",
    "    \"specification\": \"royalblue\",\n",
    "    \"both\": \"forestgreen\"\n",
    "}"
   ],
   "id": "b91c213bcdf7ad11",
   "outputs": [],
   "execution_count": 24
  },
  {
   "metadata": {
    "ExecuteTime": {
     "end_time": "2024-05-17T13:42:12.699729Z",
     "start_time": "2024-05-17T13:42:12.696760Z"
    }
   },
   "cell_type": "code",
   "source": [
    "def perform_search_query(query: str|None, fields: list[str], size:int = 10, k: int|None=100) -> int:\n",
    "    k_param: str = f\"&k={k}\" if k else \"\"\n",
    "    url: str = f\"http://localhost:{config_file['port']}/api/v1/search?size={size}{k_param}\"\n",
    "    body: dict[str, str|list[str]] = {\n",
    "        \"fields\": fields\n",
    "    }\n",
    "    \n",
    "    if query: body[\"fragment\"] = query\n",
    "    response = requests.post(url, json=body)\n",
    "    \n",
    "    return round(response.elapsed.microseconds / 1000)"
   ],
   "id": "83e13c88cde5b1dc",
   "outputs": [],
   "execution_count": 25
  },
  {
   "metadata": {
    "ExecuteTime": {
     "end_time": "2024-05-17T13:42:12.702782Z",
     "start_time": "2024-05-17T13:42:12.700928Z"
    }
   },
   "cell_type": "code",
   "source": [
    "def get_random_query() -> str:\n",
    "    return \" \".join(requests.get(\"https://random-word-api.herokuapp.com/word?lang=en&number=3\").json())"
   ],
   "id": "c89f3937fbdaf88d",
   "outputs": [],
   "execution_count": 26
  },
  {
   "metadata": {},
   "cell_type": "markdown",
   "source": "### Tests",
   "id": "d5238adc13743581"
  },
  {
   "metadata": {
    "ExecuteTime": {
     "end_time": "2024-05-17T13:42:12.705445Z",
     "start_time": "2024-05-17T13:42:12.703560Z"
    }
   },
   "cell_type": "code",
   "source": [
    "def no_queries_test(fields: list[str]=None, size: int=None, k: int=None) -> int:\n",
    "    return perform_search_query(None, fields, size, None)"
   ],
   "id": "31c22cef9767eeff",
   "outputs": [],
   "execution_count": 27
  },
  {
   "metadata": {
    "ExecuteTime": {
     "end_time": "2024-05-17T13:42:12.709066Z",
     "start_time": "2024-05-17T13:42:12.706760Z"
    }
   },
   "cell_type": "code",
   "source": [
    "def random_queries_test(fields: list[str]=None, size: int=None, k: int=None) -> int:\n",
    "    return perform_search_query(get_random_query(), fields, size, k)"
   ],
   "id": "d46b4b83c59c6cfb",
   "outputs": [],
   "execution_count": 28
  },
  {
   "metadata": {
    "ExecuteTime": {
     "end_time": "2024-05-17T13:42:12.714069Z",
     "start_time": "2024-05-17T13:42:12.709809Z"
    }
   },
   "cell_type": "code",
   "source": [
    "def run_test(test: Callable[[list[str], int, int], int], options: Options, debug=False):\n",
    "    global evaluations\n",
    "    \n",
    "    cases: list[list[str]] = [[\"metadata\"], [\"specification\"], [\"metadata\", \"specification\"]]\n",
    "    \n",
    "    if debug: print(f\"{test.__name__}:\")\n",
    "    \n",
    "    for idx, case in enumerate(cases):\n",
    "        times: list[int] = []\n",
    "        errs: list[float] = []\n",
    "        \n",
    "        if debug: print(f\"\\t{case}\", end=\": [\")\n",
    "        \n",
    "        for i in range(options.r_min, options.r_max+1, options.step):\n",
    "            tmp_times: list[int] = []\n",
    "            \n",
    "            for _ in range(options.reps):\n",
    "                tmp_times.append(test(case, i, i))\n",
    "            \n",
    "            times.append(round(sum(tmp_times)/options.reps))\n",
    "            errs.append(sem(tmp_times))\n",
    "            \n",
    "            if debug: print(f\"{round(sum(tmp_times)/options.reps)}\", end=\", \" if i != options.r_max else \"\")\n",
    "            \n",
    "        if debug: print(\"]\")\n",
    "        \n",
    "        if test.__name__ not in evaluations:\n",
    "            evaluations[test.__name__] = {}\n",
    "            \n",
    "        case_name = case[0] if idx != 2 else \"both\"\n",
    "        \n",
    "        if case_name not in evaluations[test.__name__]:\n",
    "            evaluations[test.__name__][case_name] = {}\n",
    "        \n",
    "        evaluations[test.__name__][case_name][\"ys\"] = times\n",
    "        evaluations[test.__name__][case_name][\"errs\"] = errs\n",
    "        \n",
    "    if debug: print()"
   ],
   "id": "91e21ac28668671",
   "outputs": [],
   "execution_count": 29
  },
  {
   "metadata": {},
   "cell_type": "markdown",
   "source": "### Results\n",
   "id": "8381d2f4b8205f0c"
  },
  {
   "metadata": {
    "ExecuteTime": {
     "end_time": "2024-05-17T13:49:26.803364Z",
     "start_time": "2024-05-17T13:49:26.798217Z"
    }
   },
   "cell_type": "code",
   "source": [
    "def display_graph(options: Options):\n",
    "    global evaluations\n",
    "    \n",
    "    x = [i for i in range(options.r_min, options.r_max+1, options.step)]\n",
    "    \n",
    "    fig, axes = pyplot.subplots(math.ceil(len(evaluations.keys())/2), 2, figsize=(10, 4))\n",
    "    fig.suptitle(\"Performance test @K\")\n",
    "    \n",
    "    for idx, (test, results) in enumerate(evaluations.items()):\n",
    "        position_bin: str = bin(idx).replace(\"0b\", \"\")\n",
    "        position: list[int] = [0, int(position_bin)] if len(position_bin) == 1 else [int(position_bin[0]), int(position_bin[1])]\n",
    "        \n",
    "        for case, item in results.items():\n",
    "            axes[position[1]].errorbar([str(x_i) for x_i in x], item[\"ys\"], item[\"errs\"], fmt='o', linewidth=2, capsize=6, label=case, color=colors_map[case])\n",
    "            # axes[position[1]].plot(x, item[\"ys\"])\n",
    "            \n",
    "        all_ys = [y for case in evaluations.values() for el in case.values() for y in el[\"ys\"]]\n",
    "        max_val = max(all_ys)\n",
    "            \n",
    "        axes[position[1]].set_title(test.replace(\"_\", \" \").replace(\"test\", \"\"))\n",
    "        axes[position[1]].legend(loc=\"upper left\")\n",
    "        axes[position[1]].set_xlabel(\"Number of documents (K)\")\n",
    "        axes[position[1]].set_ylabel(\"Retrieval time (in ms)\")\n",
    "        axes[position[1]].set_ylim(0, max_val+50)\n",
    "        \n",
    "    fig.tight_layout(h_pad=1)\n",
    "    pyplot.savefig(\"out.pdf\")"
   ],
   "id": "dbe89f17c3344b82",
   "outputs": [],
   "execution_count": 33
  },
  {
   "metadata": {
    "ExecuteTime": {
     "end_time": "2024-05-17T13:47:46.724179Z",
     "start_time": "2024-05-17T13:42:12.725360Z"
    }
   },
   "cell_type": "code",
   "source": [
    "opts: Options = Options(reps=10, r_max=120)\n",
    "\n",
    "run_test(no_queries_test, opts, debug=True)\n",
    "run_test(random_queries_test, opts, debug=True)"
   ],
   "id": "a29ee6ddeb151d91",
   "outputs": [
    {
     "name": "stdout",
     "output_type": "stream",
     "text": [
      "no_queries_test:\n",
      "\t['metadata']: [56, 80, 140, 163, 199, 276, 245, 318, 356, 356, 403, 390]\n",
      "\t['specification']: [62, 79, 137, 212, 242, 296, 325, 354, 407, 382, 432, 419]\n",
      "\t['metadata', 'specification']: [60, 85, 134, 235, 255, 260, 314, 358, 381, 410, 400, 441]\n",
      "\n",
      "random_queries_test:\n",
      "\t['metadata']: [49, 70, 99, 127, 146, 177, 212, 254, 224, 289, 289, 343]\n",
      "\t['specification']: [54, 89, 124, 135, 162, 192, 245, 255, 290, 283, 341, 394]\n",
      "\t['metadata', 'specification']: [51, 87, 111, 151, 158, 220, 228, 228, 283, 326, 356, 346]\n",
      "\n"
     ]
    }
   ],
   "execution_count": 31
  },
  {
   "metadata": {
    "ExecuteTime": {
     "end_time": "2024-05-17T13:49:29.441637Z",
     "start_time": "2024-05-17T13:49:29.132679Z"
    }
   },
   "cell_type": "code",
   "source": "display_graph(opts)",
   "id": "f5d5756aa5c425df",
   "outputs": [
    {
     "data": {
      "text/plain": [
       "<Figure size 1000x400 with 2 Axes>"
      ],
      "image/png": "[encoded data removed]"
     },
     "metadata": {},
     "output_type": "display_data"
    }
   ],
   "execution_count": 34
  },
  {
   "metadata": {
    "ExecuteTime": {
     "end_time": "2024-05-18T15:20:23.288515Z",
     "start_time": "2024-05-18T15:20:23.284653Z"
    }
   },
   "cell_type": "code",
   "source": [
    "no_meta = [56, 80, 140, 163, 199, 276, 245, 318, 356, 356, 403, 390]\n",
    "no_spec = [62, 79, 137, 212, 242, 296, 325, 354, 407, 382, 432, 419]\n",
    "no_meta_spec = [60, 85, 134, 235, 255, 260, 314, 358, 381, 410, 400, 441]\n",
    "# [59.3, 81.3, 137, 203.3, 232, 277.3, 294.6, 343.3, 381.3, 382.6, 411.6, 416.6]\n",
    "\n",
    "rand_meta = [49, 70, 99, 127, 146, 177, 212, 254, 224, 289, 289, 343]\n",
    "rand_spec = [54, 89, 124, 135, 162, 192, 245, 255, 290, 283, 341, 394]\n",
    "rand_meta_spec = [51, 87, 111, 151, 158, 220, 228, 228, 283, 326, 356, 346]\n",
    "# [51.3, 82.0, 111.3, 137.6, 155.3, 196.3, 228.3, 245.6, 265.6, 299.3, 328.6, 361]\n",
    "\n",
    "no_means = [(x+y+z)/3 for (x, y, z) in zip(no_meta, no_spec, no_meta_spec)]\n",
    "rand_means = [(x+y+z)/3 for (x, y, z) in zip(rand_meta, rand_spec, rand_meta_spec)]"
   ],
   "id": "c4606a9965de63ee",
   "outputs": [],
   "execution_count": 39
  }
 ],
 "metadata": {
  "kernelspec": {
   "display_name": "Python 3",
   "language": "python",
   "name": "python3"
  },
  "language_info": {
   "codemirror_mode": {
    "name": "ipython",
    "version": 2
   },
   "file_extension": ".py",
   "mimetype": "text/x-python",
   "name": "python",
   "nbconvert_exporter": "python",
   "pygments_lexer": "ipython2",
   "version": "2.7.6"
  }
 },
 "nbformat": 4,
 "nbformat_minor": 5
}
